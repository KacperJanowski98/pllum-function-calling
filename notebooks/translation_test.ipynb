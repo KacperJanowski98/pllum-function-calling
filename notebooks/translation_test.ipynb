{
 "cells": [
  {
   "cell_type": "markdown",
   "metadata": {},
   "source": [
    "# Testing Translation Functionality\n",
    "\n",
    "This notebook demonstrates how to use the translation utilities to translate queries from English to Polish."
   ]
  },
  {
   "cell_type": "markdown",
   "metadata": {},
   "source": [
    "## Setup\n",
    "\n",
    "First, let's set up our environment and import necessary libraries."
   ]
  },
  {
   "cell_type": "code",
   "execution_count": null,
   "metadata": {},
   "outputs": [],
   "source": [
    "import sys\n",
    "sys.path.append('..')  # Add parent directory to path\n",
    "\n",
    "import json\n",
    "import pandas as pd\n",
    "import matplotlib.pyplot as plt\n",
    "import seaborn as sns\n",
    "\n",
    "from src.auth import login_to_huggingface\n",
    "from src.dataset import load_function_calling_dataset, parse_json_entry\n",
    "from src.translator import translate_text, translate_query_in_sample\n",
    "\n",
    "# Visual settings\n",
    "plt.rcParams['figure.figsize'] = (12, 8)\n",
    "sns.set_style('whitegrid')"
   ]
  },
  {
   "cell_type": "markdown",
   "metadata": {},
   "source": [
    "## Loading the Dataset\n",
    "\n",
    "Let's load a small sample of the function calling dataset to test the translation functionality."
   ]
  },
  {
   "cell_type": "code",
   "execution_count": null,
   "metadata": {},
   "outputs": [],
   "source": [
    "# Login to Hugging Face\n",
    "login_to_huggingface()\n",
    "\n",
    "# Load dataset\n",
    "dataset = load_function_calling_dataset()\n",
    "print(f'Dataset contains {len(dataset[\"train\"])} examples')"
   ]
  },
  {
   "cell_type": "markdown",
   "metadata": {},
   "source": [
    "## Testing Translation Function\n",
    "\n",
    "Let's test the basic translation function with a few simple examples."
   ]
  },
  {
   "cell_type": "code",
   "execution_count": null,
   "metadata": {},
   "outputs": [],
   "source": [
    "# Test with a few simple sentences\n",
    "test_sentences = [\n",
    "    \"Hello, how are you?\",\n",
    "    \"I need to find a restaurant nearby.\",\n",
    "    \"What's the weather forecast for tomorrow?\",\n",
    "    \"Calculate the sum of 23 and 45.\",\n",
    "    \"Find the nearest gas station.\"\n",
    "]\n",
    "\n",
    "# Translate and display results\n",
    "results = []\n",
    "for sentence in test_sentences:\n",
    "    polish = translate_text(sentence, src='en', dest='pl')\n",
    "    results.append({\"English\": sentence, \"Polish\": polish})\n",
    "    \n",
    "pd.DataFrame(results)"
   ]
  },
  {
   "cell_type": "markdown",
   "metadata": {},
   "source": [
    "## Testing with Real Dataset Samples\n",
    "\n",
    "Now, let's test the translation with actual dataset samples."
   ]
  },
  {
   "cell_type": "code",
   "execution_count": null,
   "metadata": {},
   "outputs": [],
   "source": [
    "# Get a few samples from the dataset\n",
    "num_samples = 5\n",
    "samples = [dataset['train'][i] for i in range(num_samples)]\n",
    "\n",
    "# Parse the JSON entries\n",
    "parsed_samples = [parse_json_entry(sample) for sample in samples]\n",
    "\n",
    "# Display the original queries\n",
    "for i, sample in enumerate(parsed_samples):\n",
    "    print(f\"Sample {i+1} Query: {sample['query']}\")"
   ]
  },
  {
   "cell_type": "code",
   "execution_count": null,
   "metadata": {},
   "outputs": [],
   "source": [
    "# Test translating the queries\n",
    "translated_results = []\n",
    "\n",
    "for i, sample in enumerate(parsed_samples):\n",
    "    # Get the original query\n",
    "    original_query = sample['query']\n",
    "    \n",
    "    # Translate the query\n",
    "    translated_query = translate_text(original_query, src='en', dest='pl')\n",
    "    \n",
    "    translated_results.append({\n",
    "        \"Sample\": i+1,\n",
    "        \"Original (English)\": original_query,\n",
    "        \"Translated (Polish)\": translated_query\n",
    "    })\n",
    "\n",
    "# Create a DataFrame for better display\n",
    "translate_df = pd.DataFrame(translated_results)\n",
    "translate_df"
   ]
  },
  {
   "cell_type": "markdown",
   "metadata": {},
   "source": [
    "## Testing the Sample Translation Function\n",
    "\n",
    "Now, let's test the `translate_query_in_sample` function that handles the translation of only the query field in a dataset sample."
   ]
  },
  {
   "cell_type": "code",
   "execution_count": null,
   "metadata": {},
   "outputs": [],
   "source": [
    "# Test the sample translation function\n",
    "sample = dataset['train'][0]\n",
    "parsed_sample = parse_json_entry(sample)\n",
    "\n",
    "print(\"Original Sample:\")\n",
    "print(f\"Query: {parsed_sample['query']}\\n\")\n",
    "\n",
    "# Translate the sample\n",
    "translated_sample = translate_query_in_sample(sample, src='en', dest='pl')\n",
    "parsed_translated = parse_json_entry(translated_sample)\n",
    "\n",
    "print(\"Translated Sample:\")\n",
    "print(f\"Query: {parsed_translated['query']}\\n\")\n",
    "\n",
    "# Verify that only the query was translated\n",
    "print(\"Tools from original sample:\")\n",
    "tools_original = parsed_sample['tools']\n",
    "for tool in tools_original[:1]:  # Just showing the first tool to keep output manageable\n",
    "    print(f\"- {tool['name']}: {tool['description']}\")\n",
    "\n",
    "print(\"\\nTools from translated sample:\")\n",
    "tools_translated = parsed_translated['tools']\n",
    "for tool in tools_translated[:1]:\n",
    "    print(f\"- {tool['name']}: {tool['description']}\")"
   ]
  },
  {
   "cell_type": "markdown",
   "metadata": {},
   "source": [
    "## Conclusion\n",
    "\n",
    "In this notebook, we've tested the translation functionality and confirmed that:\n",
    "\n",
    "1. The basic translation function works correctly\n",
    "2. We can translate queries from dataset samples\n",
    "3. The `translate_query_in_sample` function correctly translates only the query field, leaving other fields unchanged\n",
    "\n",
    "In the next notebook, we'll use these functions to create a dataset with 40% of the queries translated to Polish."
   ]
  }
 ],
 "metadata": {
  "kernelspec": {
   "display_name": "Python 3",
   "language": "python",
   "name": "python3"
  },
  "language_info": {
   "codemirror_mode": {
    "name": "ipython",
    "version": 3
   },
   "file_extension": ".py",
   "mimetype": "text/x-python",
   "name": "python",
   "nbconvert_exporter": "python",
   "pygments_lexer": "ipython3",
   "version": "3.10.12"
  }
 },
 "nbformat": 4,
 "nbformat_minor": 4
}