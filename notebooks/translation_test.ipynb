{
 "cells": [
  {
   "cell_type": "markdown",
   "metadata": {},
   "source": [
    "# Testing Translation Functionality\n",
    "\n",
    "This notebook demonstrates how to use the translation utilities to translate queries from English to Polish."
   ]
  },
  {
   "cell_type": "markdown",
   "metadata": {},
   "source": [
    "## Setup\n",
    "\n",
    "First, let's set up our environment and import necessary libraries."
   ]
  },
  {
   "cell_type": "code",
   "execution_count": 1,
   "metadata": {},
   "outputs": [],
   "source": [
    "import sys\n",
    "sys.path.append('..')  # Add parent directory to path\n",
    "\n",
    "import json\n",
    "import pandas as pd\n",
    "import matplotlib.pyplot as plt\n",
    "import seaborn as sns\n",
    "\n",
    "from src.auth import login_to_huggingface\n",
    "from src.dataset import load_function_calling_dataset, parse_json_entry\n",
    "from src.translator import translate_text, translate_query_in_sample\n",
    "\n",
    "# Visual settings\n",
    "plt.rcParams['figure.figsize'] = (12, 8)\n",
    "sns.set_style('whitegrid')"
   ]
  },
  {
   "cell_type": "markdown",
   "metadata": {},
   "source": [
    "## Loading the Dataset\n",
    "\n",
    "Let's load a small sample of the function calling dataset to test the translation functionality."
   ]
  },
  {
   "cell_type": "code",
   "execution_count": 2,
   "metadata": {},
   "outputs": [
    {
     "name": "stdout",
     "output_type": "stream",
     "text": [
      "Warning: .env file not found. Please create one from .env.example\n"
     ]
    },
    {
     "name": "stderr",
     "output_type": "stream",
     "text": [
      "Note: Environment variable`HF_TOKEN` is set and is the current active token independently from the token you've just configured.\n",
      "2025-03-25 19:22:13,980 - WARNING - Note: Environment variable`HF_TOKEN` is set and is the current active token independently from the token you've just configured.\n",
      "Note: Environment variable`HF_TOKEN` is set and is the current active token independently from the token you've just configured.\n",
      "2025-03-25 19:22:14,113 - WARNING - Note: Environment variable`HF_TOKEN` is set and is the current active token independently from the token you've just configured.\n"
     ]
    },
    {
     "name": "stdout",
     "output_type": "stream",
     "text": [
      "Successfully logged in to Hugging Face\n",
      "Warning: .env file not found. Please create one from .env.example\n",
      "Successfully logged in to Hugging Face\n",
      "Dataset contains 60000 examples\n"
     ]
    }
   ],
   "source": [
    "# Login to Hugging Face\n",
    "login_to_huggingface()\n",
    "\n",
    "# Load dataset\n",
    "dataset = load_function_calling_dataset()\n",
    "print(f'Dataset contains {len(dataset[\"train\"])} examples')"
   ]
  },
  {
   "cell_type": "markdown",
   "metadata": {},
   "source": [
    "## Testing Translation Function\n",
    "\n",
    "Let's test the basic translation function with a few simple examples."
   ]
  },
  {
   "cell_type": "code",
   "execution_count": 3,
   "metadata": {},
   "outputs": [
    {
     "data": {
      "application/vnd.microsoft.datawrangler.viewer.v0+json": {
       "columns": [
        {
         "name": "index",
         "rawType": "int64",
         "type": "integer"
        },
        {
         "name": "English",
         "rawType": "object",
         "type": "string"
        },
        {
         "name": "Polish",
         "rawType": "object",
         "type": "string"
        }
       ],
       "conversionMethod": "pd.DataFrame",
       "ref": "9d894eaf-a881-44da-85ef-1821cd767a37",
       "rows": [
        [
         "0",
         "Hello, how are you?",
         "Witam, jak się masz?"
        ],
        [
         "1",
         "I need to find a restaurant nearby.",
         "Muszę znaleźć w pobliżu restaurację."
        ],
        [
         "2",
         "What's the weather forecast for tomorrow?",
         "Jaka jest prognoza pogody na jutro?"
        ],
        [
         "3",
         "Calculate the sum of 23 and 45.",
         "Oblicz sumę 23 i 45."
        ],
        [
         "4",
         "Find the nearest gas station.",
         "Znajdź najbliższą stację benzynową."
        ]
       ],
       "shape": {
        "columns": 2,
        "rows": 5
       }
      },
      "text/html": [
       "<div>\n",
       "<style scoped>\n",
       "    .dataframe tbody tr th:only-of-type {\n",
       "        vertical-align: middle;\n",
       "    }\n",
       "\n",
       "    .dataframe tbody tr th {\n",
       "        vertical-align: top;\n",
       "    }\n",
       "\n",
       "    .dataframe thead th {\n",
       "        text-align: right;\n",
       "    }\n",
       "</style>\n",
       "<table border=\"1\" class=\"dataframe\">\n",
       "  <thead>\n",
       "    <tr style=\"text-align: right;\">\n",
       "      <th></th>\n",
       "      <th>English</th>\n",
       "      <th>Polish</th>\n",
       "    </tr>\n",
       "  </thead>\n",
       "  <tbody>\n",
       "    <tr>\n",
       "      <th>0</th>\n",
       "      <td>Hello, how are you?</td>\n",
       "      <td>Witam, jak się masz?</td>\n",
       "    </tr>\n",
       "    <tr>\n",
       "      <th>1</th>\n",
       "      <td>I need to find a restaurant nearby.</td>\n",
       "      <td>Muszę znaleźć w pobliżu restaurację.</td>\n",
       "    </tr>\n",
       "    <tr>\n",
       "      <th>2</th>\n",
       "      <td>What's the weather forecast for tomorrow?</td>\n",
       "      <td>Jaka jest prognoza pogody na jutro?</td>\n",
       "    </tr>\n",
       "    <tr>\n",
       "      <th>3</th>\n",
       "      <td>Calculate the sum of 23 and 45.</td>\n",
       "      <td>Oblicz sumę 23 i 45.</td>\n",
       "    </tr>\n",
       "    <tr>\n",
       "      <th>4</th>\n",
       "      <td>Find the nearest gas station.</td>\n",
       "      <td>Znajdź najbliższą stację benzynową.</td>\n",
       "    </tr>\n",
       "  </tbody>\n",
       "</table>\n",
       "</div>"
      ],
      "text/plain": [
       "                                     English  \\\n",
       "0                        Hello, how are you?   \n",
       "1        I need to find a restaurant nearby.   \n",
       "2  What's the weather forecast for tomorrow?   \n",
       "3            Calculate the sum of 23 and 45.   \n",
       "4              Find the nearest gas station.   \n",
       "\n",
       "                                 Polish  \n",
       "0                  Witam, jak się masz?  \n",
       "1  Muszę znaleźć w pobliżu restaurację.  \n",
       "2   Jaka jest prognoza pogody na jutro?  \n",
       "3                  Oblicz sumę 23 i 45.  \n",
       "4   Znajdź najbliższą stację benzynową.  "
      ]
     },
     "execution_count": 3,
     "metadata": {},
     "output_type": "execute_result"
    }
   ],
   "source": [
    "# Test with a few simple sentences\n",
    "test_sentences = [\n",
    "    \"Hello, how are you?\",\n",
    "    \"I need to find a restaurant nearby.\",\n",
    "    \"What's the weather forecast for tomorrow?\",\n",
    "    \"Calculate the sum of 23 and 45.\",\n",
    "    \"Find the nearest gas station.\"\n",
    "]\n",
    "\n",
    "# Translate and display results\n",
    "results = []\n",
    "for sentence in test_sentences:\n",
    "    polish = translate_text(sentence, src='en', dest='pl')\n",
    "    results.append({\"English\": sentence, \"Polish\": polish})\n",
    "    \n",
    "pd.DataFrame(results)"
   ]
  },
  {
   "cell_type": "markdown",
   "metadata": {},
   "source": [
    "## Testing with Real Dataset Samples\n",
    "\n",
    "Now, let's test the translation with actual dataset samples."
   ]
  },
  {
   "cell_type": "code",
   "execution_count": 4,
   "metadata": {},
   "outputs": [
    {
     "name": "stdout",
     "output_type": "stream",
     "text": [
      "Sample 1 Query: Where can I find live giveaways for beta access and games?\n",
      "Sample 2 Query: I need to understand the details of the Ethereum blockchain for my cryptocurrency project. Can you fetch the details for 'ethereum'?\n",
      "Sample 3 Query: What is the T3MA for 'ETH/BTC' using a 1h interval and a time period of 14?\n",
      "Sample 4 Query: List titles originally aired on networks '1' and '8', released after 2010, sorted by release date in descending order.\n",
      "Sample 5 Query: Fetch the competitor standings for the recently concluded stage 98765.\n"
     ]
    }
   ],
   "source": [
    "# Get a few samples from the dataset\n",
    "num_samples = 5\n",
    "samples = [dataset['train'][i] for i in range(num_samples)]\n",
    "\n",
    "# Parse the JSON entries\n",
    "parsed_samples = [parse_json_entry(sample) for sample in samples]\n",
    "\n",
    "# Display the original queries\n",
    "for i, sample in enumerate(parsed_samples):\n",
    "    print(f\"Sample {i+1} Query: {sample['query']}\")"
   ]
  },
  {
   "cell_type": "code",
   "execution_count": 5,
   "metadata": {},
   "outputs": [
    {
     "data": {
      "application/vnd.microsoft.datawrangler.viewer.v0+json": {
       "columns": [
        {
         "name": "index",
         "rawType": "int64",
         "type": "integer"
        },
        {
         "name": "Sample",
         "rawType": "int64",
         "type": "integer"
        },
        {
         "name": "Original (English)",
         "rawType": "object",
         "type": "string"
        },
        {
         "name": "Translated (Polish)",
         "rawType": "object",
         "type": "string"
        }
       ],
       "conversionMethod": "pd.DataFrame",
       "ref": "0b0e8d86-df90-462f-8263-2e3b980cea41",
       "rows": [
        [
         "0",
         "1",
         "Where can I find live giveaways for beta access and games?",
         "Gdzie mogę znaleźć prezenty na żywo dla dostępu do beta i gier?"
        ],
        [
         "1",
         "2",
         "I need to understand the details of the Ethereum blockchain for my cryptocurrency project. Can you fetch the details for 'ethereum'?",
         "Muszę zrozumieć szczegóły blockchaina Ethereum dla mojego projektu kryptowaluty.Czy możesz pobrać szczegóły „Ethereum”?"
        ],
        [
         "2",
         "3",
         "What is the T3MA for 'ETH/BTC' using a 1h interval and a time period of 14?",
         "Jaki jest T3MA dla „ETH/BTC” przy użyciu interwału 1H i okresu 14?"
        ],
        [
         "3",
         "4",
         "List titles originally aired on networks '1' and '8', released after 2010, sorted by release date in descending order.",
         "Listy tytuły pierwotnie wyemitowane w sieciach „1” i „8”, wydane po 2010 roku, posortowane według daty wydania w kolejności malejącej."
        ],
        [
         "4",
         "5",
         "Fetch the competitor standings for the recently concluded stage 98765.",
         "Pobierz klasyfikację konkurencji dla niedawno zakończonego etapu 98765."
        ]
       ],
       "shape": {
        "columns": 3,
        "rows": 5
       }
      },
      "text/html": [
       "<div>\n",
       "<style scoped>\n",
       "    .dataframe tbody tr th:only-of-type {\n",
       "        vertical-align: middle;\n",
       "    }\n",
       "\n",
       "    .dataframe tbody tr th {\n",
       "        vertical-align: top;\n",
       "    }\n",
       "\n",
       "    .dataframe thead th {\n",
       "        text-align: right;\n",
       "    }\n",
       "</style>\n",
       "<table border=\"1\" class=\"dataframe\">\n",
       "  <thead>\n",
       "    <tr style=\"text-align: right;\">\n",
       "      <th></th>\n",
       "      <th>Sample</th>\n",
       "      <th>Original (English)</th>\n",
       "      <th>Translated (Polish)</th>\n",
       "    </tr>\n",
       "  </thead>\n",
       "  <tbody>\n",
       "    <tr>\n",
       "      <th>0</th>\n",
       "      <td>1</td>\n",
       "      <td>Where can I find live giveaways for beta acces...</td>\n",
       "      <td>Gdzie mogę znaleźć prezenty na żywo dla dostęp...</td>\n",
       "    </tr>\n",
       "    <tr>\n",
       "      <th>1</th>\n",
       "      <td>2</td>\n",
       "      <td>I need to understand the details of the Ethere...</td>\n",
       "      <td>Muszę zrozumieć szczegóły blockchaina Ethereum...</td>\n",
       "    </tr>\n",
       "    <tr>\n",
       "      <th>2</th>\n",
       "      <td>3</td>\n",
       "      <td>What is the T3MA for 'ETH/BTC' using a 1h inte...</td>\n",
       "      <td>Jaki jest T3MA dla „ETH/BTC” przy użyciu inter...</td>\n",
       "    </tr>\n",
       "    <tr>\n",
       "      <th>3</th>\n",
       "      <td>4</td>\n",
       "      <td>List titles originally aired on networks '1' a...</td>\n",
       "      <td>Listy tytuły pierwotnie wyemitowane w sieciach...</td>\n",
       "    </tr>\n",
       "    <tr>\n",
       "      <th>4</th>\n",
       "      <td>5</td>\n",
       "      <td>Fetch the competitor standings for the recentl...</td>\n",
       "      <td>Pobierz klasyfikację konkurencji dla niedawno ...</td>\n",
       "    </tr>\n",
       "  </tbody>\n",
       "</table>\n",
       "</div>"
      ],
      "text/plain": [
       "   Sample                                 Original (English)  \\\n",
       "0       1  Where can I find live giveaways for beta acces...   \n",
       "1       2  I need to understand the details of the Ethere...   \n",
       "2       3  What is the T3MA for 'ETH/BTC' using a 1h inte...   \n",
       "3       4  List titles originally aired on networks '1' a...   \n",
       "4       5  Fetch the competitor standings for the recentl...   \n",
       "\n",
       "                                 Translated (Polish)  \n",
       "0  Gdzie mogę znaleźć prezenty na żywo dla dostęp...  \n",
       "1  Muszę zrozumieć szczegóły blockchaina Ethereum...  \n",
       "2  Jaki jest T3MA dla „ETH/BTC” przy użyciu inter...  \n",
       "3  Listy tytuły pierwotnie wyemitowane w sieciach...  \n",
       "4  Pobierz klasyfikację konkurencji dla niedawno ...  "
      ]
     },
     "execution_count": 5,
     "metadata": {},
     "output_type": "execute_result"
    }
   ],
   "source": [
    "# Test translating the queries\n",
    "translated_results = []\n",
    "\n",
    "for i, sample in enumerate(parsed_samples):\n",
    "    # Get the original query\n",
    "    original_query = sample['query']\n",
    "    \n",
    "    # Translate the query\n",
    "    translated_query = translate_text(original_query, src='en', dest='pl')\n",
    "    \n",
    "    translated_results.append({\n",
    "        \"Sample\": i+1,\n",
    "        \"Original (English)\": original_query,\n",
    "        \"Translated (Polish)\": translated_query\n",
    "    })\n",
    "\n",
    "# Create a DataFrame for better display\n",
    "translate_df = pd.DataFrame(translated_results)\n",
    "translate_df"
   ]
  },
  {
   "cell_type": "markdown",
   "metadata": {},
   "source": [
    "## Testing the Sample Translation Function\n",
    "\n",
    "Now, let's test the `translate_query_in_sample` function that handles the translation of only the query field in a dataset sample."
   ]
  },
  {
   "cell_type": "code",
   "execution_count": 6,
   "metadata": {},
   "outputs": [
    {
     "name": "stdout",
     "output_type": "stream",
     "text": [
      "Original Sample:\n",
      "Query: Where can I find live giveaways for beta access and games?\n",
      "\n",
      "Translated Sample:\n",
      "Query: Gdzie mogę znaleźć prezenty na żywo dla dostępu do beta i gier?\n",
      "\n",
      "Tools from original sample:\n",
      "- live_giveaways_by_type: Retrieve live giveaways from the GamerPower API based on the specified type.\n",
      "\n",
      "Tools from translated sample:\n",
      "- live_giveaways_by_type: Retrieve live giveaways from the GamerPower API based on the specified type.\n"
     ]
    }
   ],
   "source": [
    "# Test the sample translation function\n",
    "sample = dataset['train'][0]\n",
    "parsed_sample = parse_json_entry(sample)\n",
    "\n",
    "print(\"Original Sample:\")\n",
    "print(f\"Query: {parsed_sample['query']}\\n\")\n",
    "\n",
    "# Translate the sample\n",
    "translated_sample = translate_query_in_sample(sample, src='en', dest='pl')\n",
    "parsed_translated = parse_json_entry(translated_sample)\n",
    "\n",
    "print(\"Translated Sample:\")\n",
    "print(f\"Query: {parsed_translated['query']}\\n\")\n",
    "\n",
    "# Verify that only the query was translated\n",
    "print(\"Tools from original sample:\")\n",
    "tools_original = parsed_sample['tools']\n",
    "for tool in tools_original[:1]:  # Just showing the first tool to keep output manageable\n",
    "    print(f\"- {tool['name']}: {tool['description']}\")\n",
    "\n",
    "print(\"\\nTools from translated sample:\")\n",
    "tools_translated = parsed_translated['tools']\n",
    "for tool in tools_translated[:1]:\n",
    "    print(f\"- {tool['name']}: {tool['description']}\")"
   ]
  },
  {
   "cell_type": "markdown",
   "metadata": {},
   "source": [
    "## Conclusion\n",
    "\n",
    "In this notebook, we've tested the translation functionality and confirmed that:\n",
    "\n",
    "1. The basic translation function works correctly\n",
    "2. We can translate queries from dataset samples\n",
    "3. The `translate_query_in_sample` function correctly translates only the query field, leaving other fields unchanged"
   ]
  }
 ],
 "metadata": {
  "kernelspec": {
   "display_name": ".venv",
   "language": "python",
   "name": "python3"
  },
  "language_info": {
   "codemirror_mode": {
    "name": "ipython",
    "version": 3
   },
   "file_extension": ".py",
   "mimetype": "text/x-python",
   "name": "python",
   "nbconvert_exporter": "python",
   "pygments_lexer": "ipython3",
   "version": "3.11.8"
  }
 },
 "nbformat": 4,
 "nbformat_minor": 4
}
