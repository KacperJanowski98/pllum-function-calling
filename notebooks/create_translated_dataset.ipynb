{
 "cells": [
  {
   "cell_type": "markdown",
   "metadata": {},
   "source": [
    "# Creating a Translated Dataset\n",
    "\n",
    "This notebook demonstrates how to create a dataset with a percentage of queries translated from English to Polish."
   ]
  },
  {
   "cell_type": "markdown",
   "metadata": {},
   "source": [
    "## Setup\n",
    "\n",
    "First, let's set up our environment and import necessary libraries."
   ]
  },
  {
   "cell_type": "code",
   "execution_count": null,
   "metadata": {},
   "outputs": [],
   "source": [
    "import sys\n",
    "sys.path.append('..')  # Add parent directory to path\n",
    "\n",
    "import json\n",
    "import os\n",
    "from pathlib import Path\n",
    "import pandas as pd\n",
    "import matplotlib.pyplot as plt\n",
    "import seaborn as sns\n",
    "\n",
    "from src.dataset import parse_json_entry\n",
    "from src.translation_dataset import (\n",
    "    create_translated_dataset,\n",
    "    analyze_translated_dataset\n",
    ")\n",
    "\n",
    "# Visual settings\n",
    "plt.rcParams['figure.figsize'] = (12, 8)\n",
    "sns.set_style('whitegrid')"
   ]
  },
  {
   "cell_type": "markdown",
   "metadata": {},
   "source": [
    "## Creating a Small Test Dataset\n",
    "\n",
    "First, let's create a small test dataset with a few translated queries to verify that everything works as expected."
   ]
  },
  {
   "cell_type": "code",
   "execution_count": 2,
   "metadata": {},
   "outputs": [
    {
     "name": "stderr",
     "output_type": "stream",
     "text": [
      "2025-03-25 18:15:03,889 - INFO - Ensured data directory exists\n"
     ]
    },
    {
     "name": "stdout",
     "output_type": "stream",
     "text": [
      "Warning: .env file not found. Please create one from .env.example\n"
     ]
    },
    {
     "name": "stderr",
     "output_type": "stream",
     "text": [
      "Note: Environment variable`HF_TOKEN` is set and is the current active token independently from the token you've just configured.\n",
      "2025-03-25 18:15:04,127 - WARNING - Note: Environment variable`HF_TOKEN` is set and is the current active token independently from the token you've just configured.\n",
      "2025-03-25 18:15:04,128 - INFO - Loading dataset Salesforce/xlam-function-calling-60k\n"
     ]
    },
    {
     "name": "stdout",
     "output_type": "stream",
     "text": [
      "Successfully logged in to Hugging Face\n"
     ]
    },
    {
     "name": "stderr",
     "output_type": "stream",
     "text": [
      "2025-03-25 18:15:07,841 - INFO - Dataset loaded with 60000 samples\n",
      "2025-03-25 18:15:07,851 - INFO - Sampled 10 entries from the dataset\n",
      "2025-03-25 18:15:07,853 - INFO - Starting translation of 50.0% of the queries\n",
      "2025-03-25 18:15:07,853 - INFO - Translating queries for 5 out of 10 samples (50.0%)\n",
      "2025-03-25 18:15:13,219 - INFO - Translated 5/5 queries\n",
      "2025-03-25 18:15:13,321 - INFO - Translation completed. Translated 5 queries.\n",
      "2025-03-25 18:15:13,323 - INFO - Saving translated dataset to ../data/test_translated_dataset.json\n",
      "2025-03-25 18:15:13,325 - INFO - Successfully saved 10 samples with 50.0% translated queries\n"
     ]
    },
    {
     "name": "stdout",
     "output_type": "stream",
     "text": [
      "Test dataset created at: ../data/test_translated_dataset.json\n"
     ]
    }
   ],
   "source": [
    "# Path for the test dataset\n",
    "test_output_path = Path('../data/test_translated_dataset.json')\n",
    "\n",
    "# Create a small dataset with 10 samples, 50% translated\n",
    "test_dataset_path = create_translated_dataset(\n",
    "    output_path=test_output_path,\n",
    "    sample_size=10,\n",
    "    translation_percentage=0.5,\n",
    "    random_seed=42\n",
    ")\n",
    "\n",
    "print(f\"Test dataset created at: {test_dataset_path}\")"
   ]
  },
  {
   "cell_type": "markdown",
   "metadata": {},
   "source": [
    "## Analyzing the Test Dataset\n",
    "\n",
    "Let's analyze the test dataset to verify the translations."
   ]
  },
  {
   "cell_type": "code",
   "execution_count": 3,
   "metadata": {},
   "outputs": [
    {
     "name": "stdout",
     "output_type": "stream",
     "text": [
      "Queries in the test dataset:\n",
      "Sample 1: Jaka jest szerokość i długość adresów IP '74 .125.24.100 'i '74 .125.24.101'?\n",
      "\n",
      "Sample 2: Tworzę łamigłówkę dla różnych grup wiekowych.Potrzebuję 7 łatwych słów dla dzieci, 14 średnich słów dla nastolatków i 20 twardych słów dla dorosłych.\n",
      "\n",
      "Sample 3: Pobrać informacje dla pojazdu z VIN 5xYZU3LA3DG123456.\n",
      "\n",
      "Sample 4: Odzyskaj przypadkowy fałszywy rekord banku z ID 987.\n",
      "\n",
      "Sample 5: Jaki jest wynik Flames dla nazwisk „John” i „Mary”?\n",
      "\n",
      "Sample 6: Place a small order at the Whole Foods located at 789 Red Boulevard. I need to order cheese, yogurt, and butter.\n",
      "\n",
      "Sample 7: Compute the Euclidean distance between points (10, 10) and (20, 20).\n",
      "\n",
      "Sample 8: Retrieve news on COVID-19 from the Health section in English for the US.\n",
      "\n",
      "Sample 9: What are some fake Google autocomplete suggestions for 'how to', 'do a backflip', and 'safely'? Also, provide the cast and crew of the movie 'The Dark Knight'.\n",
      "\n",
      "Sample 10: Find the 7th smallest number in the list [12, 34, 56, 78, 90, 23, 45, 67].\n",
      "\n"
     ]
    }
   ],
   "source": [
    "# Load and explore the test dataset\n",
    "with open(test_output_path, 'r', encoding='utf-8') as f:\n",
    "    test_data = json.load(f)\n",
    "\n",
    "# Display the queries from the first few samples\n",
    "print(\"Queries in the test dataset:\")\n",
    "for i, sample in enumerate(test_data):\n",
    "    print(f\"Sample {i+1}: {sample['query']}\\n\")"
   ]
  },
  {
   "cell_type": "code",
   "execution_count": 4,
   "metadata": {},
   "outputs": [
    {
     "name": "stderr",
     "output_type": "stream",
     "text": [
      "2025-03-25 18:16:02,388 - INFO - Analyzing translated dataset at ../data/test_translated_dataset.json\n",
      "2025-03-25 18:16:02,399 - INFO - Analysis complete - found 10 samples\n"
     ]
    },
    {
     "name": "stdout",
     "output_type": "stream",
     "text": [
      "Language distribution in the test dataset:\n"
     ]
    },
    {
     "data": {
      "application/vnd.microsoft.datawrangler.viewer.v0+json": {
       "columns": [
        {
         "name": "index",
         "rawType": "int64",
         "type": "integer"
        },
        {
         "name": "Language",
         "rawType": "object",
         "type": "string"
        },
        {
         "name": "Count",
         "rawType": "int64",
         "type": "integer"
        },
        {
         "name": "Percentage",
         "rawType": "float64",
         "type": "float"
        }
       ],
       "conversionMethod": "pd.DataFrame",
       "ref": "149a5ed3-97e4-4634-a2f5-07f20aaad850",
       "rows": [
        [
         "0",
         "English",
         "6",
         "60.0"
        ],
        [
         "1",
         "Polish",
         "4",
         "40.0"
        ]
       ],
       "shape": {
        "columns": 3,
        "rows": 2
       }
      },
      "text/html": [
       "<div>\n",
       "<style scoped>\n",
       "    .dataframe tbody tr th:only-of-type {\n",
       "        vertical-align: middle;\n",
       "    }\n",
       "\n",
       "    .dataframe tbody tr th {\n",
       "        vertical-align: top;\n",
       "    }\n",
       "\n",
       "    .dataframe thead th {\n",
       "        text-align: right;\n",
       "    }\n",
       "</style>\n",
       "<table border=\"1\" class=\"dataframe\">\n",
       "  <thead>\n",
       "    <tr style=\"text-align: right;\">\n",
       "      <th></th>\n",
       "      <th>Language</th>\n",
       "      <th>Count</th>\n",
       "      <th>Percentage</th>\n",
       "    </tr>\n",
       "  </thead>\n",
       "  <tbody>\n",
       "    <tr>\n",
       "      <th>0</th>\n",
       "      <td>English</td>\n",
       "      <td>6</td>\n",
       "      <td>60.0</td>\n",
       "    </tr>\n",
       "    <tr>\n",
       "      <th>1</th>\n",
       "      <td>Polish</td>\n",
       "      <td>4</td>\n",
       "      <td>40.0</td>\n",
       "    </tr>\n",
       "  </tbody>\n",
       "</table>\n",
       "</div>"
      ],
      "text/plain": [
       "  Language  Count  Percentage\n",
       "0  English      6        60.0\n",
       "1   Polish      4        40.0"
      ]
     },
     "execution_count": 4,
     "metadata": {},
     "output_type": "execute_result"
    }
   ],
   "source": [
    "# Analyze the language distribution\n",
    "test_summary = analyze_translated_dataset(test_output_path)\n",
    "print(\"Language distribution in the test dataset:\")\n",
    "test_summary"
   ]
  },
  {
   "cell_type": "markdown",
   "metadata": {},
   "source": [
    "## Creating the Full Translated Dataset\n",
    "\n",
    "Now, let's create the full dataset with 40% of queries translated to Polish. Depending on the size of the dataset, this may take some time to complete."
   ]
  },
  {
   "cell_type": "code",
   "execution_count": 6,
   "metadata": {},
   "outputs": [
    {
     "name": "stderr",
     "output_type": "stream",
     "text": [
      "2025-03-25 18:17:14,044 - INFO - Ensured data directory exists\n"
     ]
    },
    {
     "name": "stdout",
     "output_type": "stream",
     "text": [
      "Warning: .env file not found. Please create one from .env.example\n"
     ]
    },
    {
     "name": "stderr",
     "output_type": "stream",
     "text": [
      "Note: Environment variable`HF_TOKEN` is set and is the current active token independently from the token you've just configured.\n",
      "2025-03-25 18:17:14,253 - WARNING - Note: Environment variable`HF_TOKEN` is set and is the current active token independently from the token you've just configured.\n",
      "2025-03-25 18:17:14,255 - INFO - Loading dataset Salesforce/xlam-function-calling-60k\n"
     ]
    },
    {
     "name": "stdout",
     "output_type": "stream",
     "text": [
      "Successfully logged in to Hugging Face\n"
     ]
    },
    {
     "name": "stderr",
     "output_type": "stream",
     "text": [
      "2025-03-25 18:17:16,633 - INFO - Dataset loaded with 60000 samples\n",
      "2025-03-25 18:17:16,642 - INFO - Sampled 2000 entries from the dataset\n",
      "2025-03-25 18:17:16,644 - INFO - Starting translation of 40.0% of the queries\n",
      "2025-03-25 18:17:16,645 - INFO - Translating queries for 800 out of 2000 samples (40.0%)\n",
      "2025-03-25 18:17:22,435 - INFO - Translated 10/800 queries\n",
      "2025-03-25 18:17:29,069 - INFO - Translated 20/800 queries\n",
      "2025-03-25 18:17:35,855 - INFO - Translated 30/800 queries\n",
      "2025-03-25 18:17:43,648 - INFO - Translated 40/800 queries\n",
      "2025-03-25 18:17:52,553 - INFO - Translated 50/800 queries\n",
      "2025-03-25 18:18:01,360 - INFO - Translated 60/800 queries\n",
      "2025-03-25 18:18:11,761 - INFO - Translated 70/800 queries\n",
      "2025-03-25 18:18:23,990 - INFO - Translated 80/800 queries\n",
      "2025-03-25 18:18:32,043 - INFO - Translated 90/800 queries\n",
      "2025-03-25 18:18:41,142 - INFO - Translated 100/800 queries\n",
      "2025-03-25 18:18:52,609 - INFO - Translated 110/800 queries\n",
      "2025-03-25 18:19:03,135 - INFO - Translated 120/800 queries\n",
      "2025-03-25 18:19:13,961 - INFO - Translated 130/800 queries\n",
      "2025-03-25 18:19:22,153 - INFO - Translated 140/800 queries\n",
      "2025-03-25 18:19:31,862 - INFO - Translated 150/800 queries\n",
      "2025-03-25 18:19:44,716 - INFO - Translated 160/800 queries\n",
      "2025-03-25 18:19:56,665 - INFO - Translated 170/800 queries\n",
      "2025-03-25 18:20:08,645 - INFO - Translated 180/800 queries\n",
      "2025-03-25 18:20:18,987 - INFO - Translated 190/800 queries\n",
      "2025-03-25 18:20:28,691 - INFO - Translated 200/800 queries\n",
      "2025-03-25 18:20:41,685 - INFO - Translated 210/800 queries\n",
      "2025-03-25 18:20:53,596 - INFO - Translated 220/800 queries\n",
      "2025-03-25 18:21:04,977 - INFO - Translated 230/800 queries\n",
      "2025-03-25 18:21:15,134 - INFO - Translated 240/800 queries\n",
      "2025-03-25 18:21:26,159 - INFO - Translated 250/800 queries\n",
      "2025-03-25 18:21:36,707 - INFO - Translated 260/800 queries\n",
      "2025-03-25 18:21:46,438 - INFO - Translated 270/800 queries\n",
      "2025-03-25 18:21:56,984 - INFO - Translated 280/800 queries\n",
      "2025-03-25 18:22:07,329 - INFO - Translated 290/800 queries\n",
      "2025-03-25 18:22:17,305 - INFO - Translated 300/800 queries\n",
      "2025-03-25 18:22:26,781 - INFO - Translated 310/800 queries\n",
      "2025-03-25 18:22:35,827 - INFO - Translated 320/800 queries\n",
      "2025-03-25 18:22:45,624 - INFO - Translated 330/800 queries\n",
      "2025-03-25 18:22:55,658 - INFO - Translated 340/800 queries\n",
      "2025-03-25 18:23:05,285 - INFO - Translated 350/800 queries\n",
      "2025-03-25 18:23:14,398 - INFO - Translated 360/800 queries\n",
      "2025-03-25 18:23:24,327 - INFO - Translated 370/800 queries\n",
      "2025-03-25 18:23:32,646 - INFO - Translated 380/800 queries\n",
      "2025-03-25 18:23:42,134 - INFO - Translated 390/800 queries\n",
      "2025-03-25 18:23:51,671 - INFO - Translated 400/800 queries\n",
      "2025-03-25 18:24:02,629 - INFO - Translated 410/800 queries\n",
      "2025-03-25 18:24:13,078 - INFO - Translated 420/800 queries\n",
      "2025-03-25 18:24:21,778 - INFO - Translated 430/800 queries\n",
      "2025-03-25 18:24:32,538 - INFO - Translated 440/800 queries\n",
      "2025-03-25 18:24:42,828 - INFO - Translated 450/800 queries\n",
      "2025-03-25 18:24:52,909 - INFO - Translated 460/800 queries\n",
      "2025-03-25 18:25:04,479 - INFO - Translated 470/800 queries\n",
      "2025-03-25 18:25:15,027 - INFO - Translated 480/800 queries\n",
      "2025-03-25 18:25:26,905 - INFO - Translated 490/800 queries\n",
      "2025-03-25 18:25:35,200 - INFO - Translated 500/800 queries\n",
      "2025-03-25 18:25:46,771 - INFO - Translated 510/800 queries\n",
      "2025-03-25 18:25:55,475 - INFO - Translated 520/800 queries\n",
      "2025-03-25 18:26:04,588 - INFO - Translated 530/800 queries\n",
      "2025-03-25 18:26:13,190 - INFO - Translated 540/800 queries\n",
      "2025-03-25 18:26:24,165 - INFO - Translated 550/800 queries\n",
      "2025-03-25 18:26:35,513 - INFO - Translated 560/800 queries\n",
      "2025-03-25 18:26:47,086 - INFO - Translated 570/800 queries\n",
      "2025-03-25 18:26:59,272 - INFO - Translated 580/800 queries\n",
      "2025-03-25 18:27:10,021 - INFO - Translated 590/800 queries\n",
      "2025-03-25 18:27:21,231 - INFO - Translated 600/800 queries\n",
      "2025-03-25 18:27:31,587 - INFO - Translated 610/800 queries\n",
      "2025-03-25 18:27:42,484 - INFO - Translated 620/800 queries\n",
      "2025-03-25 18:27:51,574 - INFO - Translated 630/800 queries\n",
      "2025-03-25 18:28:01,128 - INFO - Translated 640/800 queries\n",
      "2025-03-25 18:28:11,668 - INFO - Translated 650/800 queries\n",
      "2025-03-25 18:28:23,406 - INFO - Translated 660/800 queries\n",
      "2025-03-25 18:28:33,481 - INFO - Translated 670/800 queries\n",
      "2025-03-25 18:28:44,996 - INFO - Translated 680/800 queries\n",
      "2025-03-25 18:28:56,213 - INFO - Translated 690/800 queries\n",
      "2025-03-25 18:29:08,091 - INFO - Translated 700/800 queries\n",
      "2025-03-25 18:29:21,686 - INFO - Translated 710/800 queries\n",
      "2025-03-25 18:29:31,131 - INFO - Translated 720/800 queries\n",
      "2025-03-25 18:29:40,143 - INFO - Translated 730/800 queries\n",
      "2025-03-25 18:29:51,059 - INFO - Translated 740/800 queries\n",
      "2025-03-25 18:29:59,598 - WARNING - Translation attempt 1 failed: the JSON object must be str, bytes or bytearray, not NoneType\n",
      "2025-03-25 18:29:59,599 - INFO - Retrying in 1 seconds...\n",
      "2025-03-25 18:30:02,364 - INFO - Translated 750/800 queries\n",
      "2025-03-25 18:30:08,879 - WARNING - Translation attempt 1 failed: The read operation timed out\n",
      "2025-03-25 18:30:08,880 - INFO - Retrying in 1 seconds...\n",
      "2025-03-25 18:30:18,227 - INFO - Translated 760/800 queries\n",
      "2025-03-25 18:30:29,091 - INFO - Translated 770/800 queries\n",
      "2025-03-25 18:30:38,469 - INFO - Translated 780/800 queries\n",
      "2025-03-25 18:30:48,745 - INFO - Translated 790/800 queries\n",
      "2025-03-25 18:30:58,994 - INFO - Translated 800/800 queries\n",
      "2025-03-25 18:30:59,097 - INFO - Translation completed. Translated 800 queries.\n",
      "2025-03-25 18:30:59,098 - INFO - Saving translated dataset to ../data/xlam_function_calling_pl.json\n",
      "2025-03-25 18:30:59,133 - INFO - Successfully saved 2000 samples with 40.0% translated queries\n"
     ]
    },
    {
     "name": "stdout",
     "output_type": "stream",
     "text": [
      "Full dataset created at: ../data/xlam_function_calling_pl.json\n"
     ]
    }
   ],
   "source": [
    "# Path for the full dataset\n",
    "full_output_path = Path('../data/xlam_function_calling_pl.json')\n",
    "\n",
    "# Option 1: Creating a full dataset with all samples (this will take a long time)\n",
    "# full_dataset_path = create_translated_dataset(\n",
    "#     output_path=full_output_path,\n",
    "#     translation_percentage=0.4,\n",
    "#     random_seed=42\n",
    "# )\n",
    "\n",
    "# Option 2: Creating a more manageable dataset (e.g., 2000 samples)\n",
    "sample_size = 2000  # Adjust based on your needs and resources\n",
    "full_dataset_path = create_translated_dataset(\n",
    "    output_path=full_output_path,\n",
    "    sample_size=sample_size,\n",
    "    translation_percentage=0.4,\n",
    "    random_seed=42\n",
    ")\n",
    "\n",
    "print(f\"Full dataset created at: {full_dataset_path}\")"
   ]
  },
  {
   "cell_type": "markdown",
   "metadata": {},
   "source": [
    "## Analyzing the Full Dataset\n",
    "\n",
    "Now, let's analyze the full dataset to verify that approximately 40% of the queries have been translated."
   ]
  },
  {
   "cell_type": "code",
   "execution_count": 7,
   "metadata": {},
   "outputs": [
    {
     "name": "stderr",
     "output_type": "stream",
     "text": [
      "2025-03-25 18:36:42,182 - INFO - Analyzing translated dataset at ../data/xlam_function_calling_pl.json\n",
      "2025-03-25 18:36:42,198 - INFO - Analysis complete - found 2000 samples\n"
     ]
    },
    {
     "name": "stdout",
     "output_type": "stream",
     "text": [
      "Language distribution in the full dataset:\n"
     ]
    },
    {
     "data": {
      "application/vnd.microsoft.datawrangler.viewer.v0+json": {
       "columns": [
        {
         "name": "index",
         "rawType": "int64",
         "type": "integer"
        },
        {
         "name": "Language",
         "rawType": "object",
         "type": "string"
        },
        {
         "name": "Count",
         "rawType": "int64",
         "type": "integer"
        },
        {
         "name": "Percentage",
         "rawType": "float64",
         "type": "float"
        }
       ],
       "conversionMethod": "pd.DataFrame",
       "ref": "93fd4207-e589-4245-be99-58a82363f020",
       "rows": [
        [
         "0",
         "English",
         "1241",
         "62.05"
        ],
        [
         "1",
         "Polish",
         "759",
         "37.95"
        ]
       ],
       "shape": {
        "columns": 3,
        "rows": 2
       }
      },
      "text/html": [
       "<div>\n",
       "<style scoped>\n",
       "    .dataframe tbody tr th:only-of-type {\n",
       "        vertical-align: middle;\n",
       "    }\n",
       "\n",
       "    .dataframe tbody tr th {\n",
       "        vertical-align: top;\n",
       "    }\n",
       "\n",
       "    .dataframe thead th {\n",
       "        text-align: right;\n",
       "    }\n",
       "</style>\n",
       "<table border=\"1\" class=\"dataframe\">\n",
       "  <thead>\n",
       "    <tr style=\"text-align: right;\">\n",
       "      <th></th>\n",
       "      <th>Language</th>\n",
       "      <th>Count</th>\n",
       "      <th>Percentage</th>\n",
       "    </tr>\n",
       "  </thead>\n",
       "  <tbody>\n",
       "    <tr>\n",
       "      <th>0</th>\n",
       "      <td>English</td>\n",
       "      <td>1241</td>\n",
       "      <td>62.05</td>\n",
       "    </tr>\n",
       "    <tr>\n",
       "      <th>1</th>\n",
       "      <td>Polish</td>\n",
       "      <td>759</td>\n",
       "      <td>37.95</td>\n",
       "    </tr>\n",
       "  </tbody>\n",
       "</table>\n",
       "</div>"
      ],
      "text/plain": [
       "  Language  Count  Percentage\n",
       "0  English   1241       62.05\n",
       "1   Polish    759       37.95"
      ]
     },
     "execution_count": 7,
     "metadata": {},
     "output_type": "execute_result"
    }
   ],
   "source": [
    "# Analyze the language distribution\n",
    "full_summary = analyze_translated_dataset(full_output_path)\n",
    "print(\"Language distribution in the full dataset:\")\n",
    "full_summary"
   ]
  },
  {
   "cell_type": "code",
   "execution_count": 8,
   "metadata": {},
   "outputs": [
    {
     "data": {
      "image/png": "[encoded data removed]",
      "text/plain": [
       "<Figure size 1000x600 with 1 Axes>"
      ]
     },
     "metadata": {},
     "output_type": "display_data"
    }
   ],
   "source": [
    "# Visualize the language distribution\n",
    "plt.figure(figsize=(10, 6))\n",
    "sns.barplot(x='Language', y='Percentage', data=full_summary)\n",
    "plt.title('Language Distribution in the Translated Dataset')\n",
    "plt.xlabel('Language')\n",
    "plt.ylabel('Percentage of Queries')\n",
    "plt.tight_layout()\n",
    "plt.savefig('../data/language_distribution.png')\n",
    "plt.show()"
   ]
  },
  {
   "cell_type": "markdown",
   "metadata": {},
   "source": [
    "## Examining Examples of Translated Queries\n",
    "\n",
    "Let's look at some examples of translated queries to verify the quality."
   ]
  },
  {
   "cell_type": "code",
   "execution_count": 9,
   "metadata": {},
   "outputs": [
    {
     "name": "stdout",
     "output_type": "stream",
     "text": [
      "Examples of English Queries:\n",
      "1. Jaki jest wynik Flames dla nazwisk „John” i „Mary”?\n",
      "\n",
      "2. Pobierz dane Ticker dla Ethereum na rynkach USD i euro.\n",
      "\n",
      "3. Odzyskaj zwolnienia prasowe dla Tesli na stronie 1.\n",
      "\n",
      "4. Pobieraj produkty z pierwszych 3 stron sklepu Nike Shopify.\n",
      "\n",
      "5. Oblicz odchylenie standardowe liczb 5, 10, 15, 20, 25.\n",
      "\n",
      "\n",
      "Examples of Polish Queries:\n",
      "1. Jaka jest szerokość i długość adresów IP '74 .125.24.100 'i '74 .125.24.101'?\n",
      "\n",
      "2. Tworzę łamigłówkę dla różnych grup wiekowych.Potrzebuję 7 łatwych słów dla dzieci, 14 średnich słów dla nastolatków i 20 twardych słów dla dorosłych.\n",
      "\n",
      "3. Pobrać informacje dla pojazdu z VIN 5xYZU3LA3DG123456.\n",
      "\n",
      "4. Odzyskaj przypadkowy fałszywy rekord banku z ID 987.\n",
      "\n",
      "5. Złóż małe zamówienie w Whole Foods położonym przy 789 Red Boulevard.Muszę zamówić ser, jogurt i masło.\n",
      "\n"
     ]
    }
   ],
   "source": [
    "# Load the full dataset\n",
    "with open(full_output_path, 'r', encoding='utf-8') as f:\n",
    "    full_data = json.load(f)\n",
    "\n",
    "# Function to detect if a query is in Polish (simplified)\n",
    "def is_polish(text):\n",
    "    return any(c in text for c in 'ąćęłńóśźżĄĆĘŁŃÓŚŹŻ')\n",
    "\n",
    "# Get examples of English and Polish queries\n",
    "english_examples = []\n",
    "polish_examples = []\n",
    "\n",
    "for sample in full_data:\n",
    "    query = sample['query']\n",
    "    if len(english_examples) < 5 and not is_polish(query):\n",
    "        english_examples.append(query)\n",
    "    elif len(polish_examples) < 5 and is_polish(query):\n",
    "        polish_examples.append(query)\n",
    "        \n",
    "    if len(english_examples) >= 5 and len(polish_examples) >= 5:\n",
    "        break\n",
    "\n",
    "# Display examples\n",
    "print(\"Examples of English Queries:\")\n",
    "for i, query in enumerate(english_examples):\n",
    "    print(f\"{i+1}. {query}\\n\")\n",
    "\n",
    "print(\"\\nExamples of Polish Queries:\")\n",
    "for i, query in enumerate(polish_examples):\n",
    "    print(f\"{i+1}. {query}\\n\")"
   ]
  },
  {
   "cell_type": "markdown",
   "metadata": {},
   "source": [
    "## Verify Dataset Structure\n",
    "\n",
    "Let's verify that the dataset structure is maintained, with only the queries translated."
   ]
  },
  {
   "cell_type": "code",
   "execution_count": 10,
   "metadata": {},
   "outputs": [
    {
     "name": "stdout",
     "output_type": "stream",
     "text": [
      "Structure of a sample with a Polish query:\n",
      "Query: Jaka jest szerokość i długość adresów IP '74 .125.24.100 'i '74 .125.24.101'?\n",
      "\n",
      "Tools:\n",
      "- Name: get_ip_location\n",
      "  Description: Retrieves the latitude and longitude coordinates of a given IP address using the ip-api.com API.\n",
      "  Parameters: ['ip']\n",
      "\n",
      "Answers:\n",
      "- Tool: get_ip_location\n",
      "  Arguments: {'ip': '74.125.24.100'}\n",
      "\n",
      "- Tool: get_ip_location\n",
      "  Arguments: {'ip': '74.125.24.101'}\n",
      "\n"
     ]
    }
   ],
   "source": [
    "# Select a sample with a Polish query\n",
    "polish_sample = None\n",
    "for sample in full_data:\n",
    "    if is_polish(sample['query']):\n",
    "        polish_sample = sample\n",
    "        break\n",
    "\n",
    "if polish_sample:\n",
    "    # Parse the sample to examine its structure\n",
    "    parsed_sample = parse_json_entry(polish_sample)\n",
    "    \n",
    "    print(\"Structure of a sample with a Polish query:\")\n",
    "    print(f\"Query: {parsed_sample['query']}\\n\")\n",
    "    \n",
    "    print(\"Tools:\")\n",
    "    for tool in parsed_sample['tools'][:2]:  # Show first two tools\n",
    "        print(f\"- Name: {tool['name']}\")\n",
    "        print(f\"  Description: {tool['description']}\")\n",
    "        print(f\"  Parameters: {list(tool['parameters'].keys())}\\n\")\n",
    "    \n",
    "    print(\"Answers:\")\n",
    "    for answer in parsed_sample['answers'][:2]:  # Show first two answers\n",
    "        print(f\"- Tool: {answer['name']}\")\n",
    "        print(f\"  Arguments: {answer['arguments']}\\n\")\n",
    "else:\n",
    "    print(\"No sample with a Polish query found.\")"
   ]
  },
  {
   "cell_type": "markdown",
   "metadata": {},
   "source": [
    "## Save Dataset Statistics\n",
    "\n",
    "Finally, let's save some statistics about the dataset."
   ]
  },
  {
   "cell_type": "code",
   "execution_count": 11,
   "metadata": {},
   "outputs": [
    {
     "name": "stdout",
     "output_type": "stream",
     "text": [
      "total_samples: 2000\n",
      "english_samples: 1241\n",
      "polish_samples: 759\n",
      "polish_percentage: 37.95\n",
      "\n",
      "Statistics saved to ../data/dataset_stats.json\n"
     ]
    }
   ],
   "source": [
    "# Prepare dataset statistics\n",
    "stats = {\n",
    "    \"total_samples\": len(full_data),\n",
    "    \"english_samples\": int(full_summary[full_summary['Language'] == 'English']['Count'].values[0] \n",
    "                           if 'English' in full_summary['Language'].values else 0),\n",
    "    \"polish_samples\": int(full_summary[full_summary['Language'] == 'Polish']['Count'].values[0] \n",
    "                          if 'Polish' in full_summary['Language'].values else 0),\n",
    "    \"polish_percentage\": float(full_summary[full_summary['Language'] == 'Polish']['Percentage'].values[0] \n",
    "                              if 'Polish' in full_summary['Language'].values else 0),\n",
    "}\n",
    "\n",
    "# Display statistics\n",
    "for key, value in stats.items():\n",
    "    print(f\"{key}: {value}\")\n",
    "\n",
    "# Save statistics to file\n",
    "stats_path = Path('../data/dataset_stats.json')\n",
    "with open(stats_path, 'w', encoding='utf-8') as f:\n",
    "    json.dump(stats, f, indent=2)\n",
    "\n",
    "print(f\"\\nStatistics saved to {stats_path}\")"
   ]
  },
  {
   "cell_type": "markdown",
   "metadata": {},
   "source": [
    "## Conclusion\n",
    "\n",
    "In this notebook, we have:\n",
    "\n",
    "1. Created a small test dataset to verify the translation functionality\n",
    "2. Created a larger dataset with approximately 40% of queries translated to Polish\n",
    "3. Analyzed and visualized the language distribution in the dataset\n",
    "4. Verified that the dataset structure is maintained, with only the queries translated\n",
    "5. Saved statistics about the dataset"
   ]
  }
 ],
 "metadata": {
  "kernelspec": {
   "display_name": ".venv",
   "language": "python",
   "name": "python3"
  },
  "language_info": {
   "codemirror_mode": {
    "name": "ipython",
    "version": 3
   },
   "file_extension": ".py",
   "mimetype": "text/x-python",
   "name": "python",
   "nbconvert_exporter": "python",
   "pygments_lexer": "ipython3",
   "version": "3.11.8"
  }
 },
 "nbformat": 4,
 "nbformat_minor": 4
}
