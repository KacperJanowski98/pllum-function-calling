{
 "cells": [
  {
   "cell_type": "markdown",
   "metadata": {},
   "source": [
    "# Creating a Translated Dataset\n",
    "\n",
    "This notebook demonstrates how to create a dataset with a percentage of queries translated from English to Polish."
   ]
  },
  {
   "cell_type": "markdown",
   "metadata": {},
   "source": [
    "## Setup\n",
    "\n",
    "First, let's set up our environment and import necessary libraries."
   ]
  },
  {
   "cell_type": "code",
   "execution_count": 1,
   "metadata": {},
   "outputs": [],
   "source": [
    "import sys\n",
    "sys.path.append('..')  # Add parent directory to path\n",
    "\n",
    "import json\n",
    "import os\n",
    "from pathlib import Path\n",
    "import pandas as pd\n",
    "import matplotlib.pyplot as plt\n",
    "import seaborn as sns\n",
    "\n",
    "from src.dataset import parse_json_entry\n",
    "from src.translation_dataset import (\n",
    "    create_translated_dataset,\n",
    "    analyze_translated_dataset\n",
    ")\n",
    "\n",
    "# Visual settings\n",
    "plt.rcParams['figure.figsize'] = (12, 8)\n",
    "sns.set_style('whitegrid')"
   ]
  },
  {
   "cell_type": "markdown",
   "metadata": {},
   "source": [
    "## Creating a Small Test Dataset\n",
    "\n",
    "First, let's create a small test dataset with a few translated queries to verify that everything works as expected."
   ]
  },
  {
   "cell_type": "code",
   "execution_count": 2,
   "metadata": {},
   "outputs": [
    {
     "name": "stderr",
     "output_type": "stream",
     "text": [
      "2025-03-25 19:23:36,906 - INFO - Ensured data directory exists\n"
     ]
    },
    {
     "name": "stdout",
     "output_type": "stream",
     "text": [
      "Warning: .env file not found. Please create one from .env.example\n"
     ]
    },
    {
     "name": "stderr",
     "output_type": "stream",
     "text": [
      "Note: Environment variable`HF_TOKEN` is set and is the current active token independently from the token you've just configured.\n",
      "2025-03-25 19:23:37,245 - WARNING - Note: Environment variable`HF_TOKEN` is set and is the current active token independently from the token you've just configured.\n",
      "2025-03-25 19:23:37,246 - INFO - Loading dataset Salesforce/xlam-function-calling-60k\n"
     ]
    },
    {
     "name": "stdout",
     "output_type": "stream",
     "text": [
      "Successfully logged in to Hugging Face\n"
     ]
    },
    {
     "name": "stderr",
     "output_type": "stream",
     "text": [
      "2025-03-25 19:23:40,903 - INFO - Dataset loaded with 60000 samples\n",
      "2025-03-25 19:23:40,911 - INFO - Sampled 10 entries from the dataset\n",
      "2025-03-25 19:23:40,913 - INFO - Starting translation of 50.0% of the queries\n",
      "2025-03-25 19:23:40,913 - INFO - Translating queries for 5 out of 10 samples (50.0%)\n",
      "2025-03-25 19:23:43,392 - INFO - Translated 5/5 queries\n",
      "2025-03-25 19:23:43,495 - INFO - Translation completed. Translated 5 queries.\n",
      "2025-03-25 19:23:43,496 - INFO - Saving translated dataset to ../data/test_translated_dataset.json\n",
      "2025-03-25 19:23:43,498 - INFO - Successfully saved 10 samples with 50.0% translated queries\n"
     ]
    },
    {
     "name": "stdout",
     "output_type": "stream",
     "text": [
      "Test dataset created at: ../data/test_translated_dataset.json\n"
     ]
    }
   ],
   "source": [
    "# Path for the test dataset\n",
    "test_output_path = Path('../data/test_translated_dataset.json')\n",
    "\n",
    "# Create a small dataset with 10 samples, 50% translated\n",
    "test_dataset_path = create_translated_dataset(\n",
    "    output_path=test_output_path,\n",
    "    sample_size=10,\n",
    "    translation_percentage=0.5,\n",
    "    random_seed=42\n",
    ")\n",
    "\n",
    "print(f\"Test dataset created at: {test_dataset_path}\")"
   ]
  },
  {
   "cell_type": "markdown",
   "metadata": {},
   "source": [
    "## Analyzing the Test Dataset\n",
    "\n",
    "Let's analyze the test dataset to verify the translations."
   ]
  },
  {
   "cell_type": "code",
   "execution_count": 3,
   "metadata": {},
   "outputs": [
    {
     "name": "stdout",
     "output_type": "stream",
     "text": [
      "Queries in the test dataset:\n",
      "Sample 1: Jaka jest szerokość i długość adresów IP '74 .125.24.100 'i '74 .125.24.101'?\n",
      "\n",
      "Sample 2: Tworzę łamigłówkę dla różnych grup wiekowych.Potrzebuję 7 łatwych słów dla dzieci, 14 średnich słów dla nastolatków i 20 twardych słów dla dorosłych.\n",
      "\n",
      "Sample 3: Pobrać informacje dla pojazdu z VIN 5xYZU3LA3DG123456.\n",
      "\n",
      "Sample 4: Odzyskaj przypadkowy fałszywy rekord banku z ID 987.\n",
      "\n",
      "Sample 5: Jaki jest wynik Flames dla nazwisk „John” i „Mary”?\n",
      "\n",
      "Sample 6: Place a small order at the Whole Foods located at 789 Red Boulevard. I need to order cheese, yogurt, and butter.\n",
      "\n",
      "Sample 7: Compute the Euclidean distance between points (10, 10) and (20, 20).\n",
      "\n",
      "Sample 8: Retrieve news on COVID-19 from the Health section in English for the US.\n",
      "\n",
      "Sample 9: What are some fake Google autocomplete suggestions for 'how to', 'do a backflip', and 'safely'? Also, provide the cast and crew of the movie 'The Dark Knight'.\n",
      "\n",
      "Sample 10: Find the 7th smallest number in the list [12, 34, 56, 78, 90, 23, 45, 67].\n",
      "\n"
     ]
    }
   ],
   "source": [
    "# Load and explore the test dataset\n",
    "with open(test_output_path, 'r', encoding='utf-8') as f:\n",
    "    test_data = json.load(f)\n",
    "\n",
    "# Display the queries from the first few samples\n",
    "print(\"Queries in the test dataset:\")\n",
    "for i, sample in enumerate(test_data):\n",
    "    print(f\"Sample {i+1}: {sample['query']}\\n\")"
   ]
  },
  {
   "cell_type": "code",
   "execution_count": 4,
   "metadata": {},
   "outputs": [
    {
     "name": "stderr",
     "output_type": "stream",
     "text": [
      "2025-03-25 19:23:56,013 - INFO - Analyzing translated dataset at ../data/test_translated_dataset.json\n",
      "2025-03-25 19:23:56,178 - INFO - Analysis complete - found 10 samples with the following language distribution:\n",
      "2025-03-25 19:23:56,178 - INFO -   - Polish: 5 samples (50.0%)\n",
      "2025-03-25 19:23:56,179 - INFO -   - English: 5 samples (50.0%)\n"
     ]
    },
    {
     "name": "stdout",
     "output_type": "stream",
     "text": [
      "Language distribution in the test dataset:\n"
     ]
    },
    {
     "data": {
      "application/vnd.microsoft.datawrangler.viewer.v0+json": {
       "columns": [
        {
         "name": "index",
         "rawType": "int64",
         "type": "integer"
        },
        {
         "name": "Language",
         "rawType": "object",
         "type": "string"
        },
        {
         "name": "Count",
         "rawType": "int64",
         "type": "integer"
        },
        {
         "name": "Percentage",
         "rawType": "float64",
         "type": "float"
        }
       ],
       "conversionMethod": "pd.DataFrame",
       "ref": "cf0b3281-ffbd-4adb-bd5c-a2961ea2b4cc",
       "rows": [
        [
         "0",
         "Polish",
         "5",
         "50.0"
        ],
        [
         "1",
         "English",
         "5",
         "50.0"
        ]
       ],
       "shape": {
        "columns": 3,
        "rows": 2
       }
      },
      "text/html": [
       "<div>\n",
       "<style scoped>\n",
       "    .dataframe tbody tr th:only-of-type {\n",
       "        vertical-align: middle;\n",
       "    }\n",
       "\n",
       "    .dataframe tbody tr th {\n",
       "        vertical-align: top;\n",
       "    }\n",
       "\n",
       "    .dataframe thead th {\n",
       "        text-align: right;\n",
       "    }\n",
       "</style>\n",
       "<table border=\"1\" class=\"dataframe\">\n",
       "  <thead>\n",
       "    <tr style=\"text-align: right;\">\n",
       "      <th></th>\n",
       "      <th>Language</th>\n",
       "      <th>Count</th>\n",
       "      <th>Percentage</th>\n",
       "    </tr>\n",
       "  </thead>\n",
       "  <tbody>\n",
       "    <tr>\n",
       "      <th>0</th>\n",
       "      <td>Polish</td>\n",
       "      <td>5</td>\n",
       "      <td>50.0</td>\n",
       "    </tr>\n",
       "    <tr>\n",
       "      <th>1</th>\n",
       "      <td>English</td>\n",
       "      <td>5</td>\n",
       "      <td>50.0</td>\n",
       "    </tr>\n",
       "  </tbody>\n",
       "</table>\n",
       "</div>"
      ],
      "text/plain": [
       "  Language  Count  Percentage\n",
       "0   Polish      5        50.0\n",
       "1  English      5        50.0"
      ]
     },
     "execution_count": 4,
     "metadata": {},
     "output_type": "execute_result"
    }
   ],
   "source": [
    "# Analyze the language distribution\n",
    "test_summary = analyze_translated_dataset(test_output_path)\n",
    "print(\"Language distribution in the test dataset:\")\n",
    "test_summary"
   ]
  },
  {
   "cell_type": "markdown",
   "metadata": {},
   "source": [
    "## Creating the Full Translated Dataset\n",
    "\n",
    "Now, let's create the full dataset with 40% of queries translated to Polish. Depending on the size of the dataset, this may take some time to complete."
   ]
  },
  {
   "cell_type": "code",
   "execution_count": 5,
   "metadata": {},
   "outputs": [
    {
     "name": "stderr",
     "output_type": "stream",
     "text": [
      "2025-03-25 19:24:01,541 - INFO - Ensured data directory exists\n",
      "Note: Environment variable`HF_TOKEN` is set and is the current active token independently from the token you've just configured.\n",
      "2025-03-25 19:24:01,725 - WARNING - Note: Environment variable`HF_TOKEN` is set and is the current active token independently from the token you've just configured.\n",
      "2025-03-25 19:24:01,729 - INFO - Loading dataset Salesforce/xlam-function-calling-60k\n"
     ]
    },
    {
     "name": "stdout",
     "output_type": "stream",
     "text": [
      "Warning: .env file not found. Please create one from .env.example\n",
      "Successfully logged in to Hugging Face\n"
     ]
    },
    {
     "name": "stderr",
     "output_type": "stream",
     "text": [
      "2025-03-25 19:24:04,102 - INFO - Dataset loaded with 60000 samples\n",
      "2025-03-25 19:24:04,111 - INFO - Sampled 2000 entries from the dataset\n",
      "2025-03-25 19:24:04,113 - INFO - Starting translation of 40.0% of the queries\n",
      "2025-03-25 19:24:04,114 - INFO - Translating queries for 800 out of 2000 samples (40.0%)\n",
      "2025-03-25 19:24:07,987 - INFO - Translated 10/800 queries\n",
      "2025-03-25 19:24:11,531 - INFO - Translated 20/800 queries\n",
      "2025-03-25 19:24:17,592 - INFO - Translated 30/800 queries\n",
      "2025-03-25 19:24:24,034 - INFO - Translated 40/800 queries\n",
      "2025-03-25 19:24:30,650 - INFO - Translated 50/800 queries\n",
      "2025-03-25 19:24:34,769 - INFO - Translated 60/800 queries\n",
      "2025-03-25 19:24:40,010 - INFO - Translated 70/800 queries\n",
      "2025-03-25 19:24:46,781 - INFO - Translated 80/800 queries\n",
      "2025-03-25 19:24:52,635 - INFO - Translated 90/800 queries\n",
      "2025-03-25 19:25:00,816 - INFO - Translated 100/800 queries\n",
      "2025-03-25 19:25:07,386 - INFO - Translated 110/800 queries\n",
      "2025-03-25 19:25:13,197 - INFO - Translated 120/800 queries\n",
      "2025-03-25 19:25:19,752 - INFO - Translated 130/800 queries\n",
      "2025-03-25 19:25:24,637 - INFO - Translated 140/800 queries\n",
      "2025-03-25 19:25:30,628 - INFO - Translated 150/800 queries\n",
      "2025-03-25 19:25:38,286 - INFO - Translated 160/800 queries\n",
      "2025-03-25 19:25:45,745 - INFO - Translated 170/800 queries\n",
      "2025-03-25 19:25:49,587 - INFO - Translated 180/800 queries\n",
      "2025-03-25 19:25:56,411 - INFO - Translated 190/800 queries\n",
      "2025-03-25 19:26:01,326 - INFO - Translated 200/800 queries\n",
      "2025-03-25 19:26:06,823 - INFO - Translated 210/800 queries\n",
      "2025-03-25 19:26:13,287 - INFO - Translated 220/800 queries\n",
      "2025-03-25 19:26:17,974 - INFO - Translated 230/800 queries\n",
      "2025-03-25 19:26:23,232 - INFO - Translated 240/800 queries\n",
      "2025-03-25 19:26:30,217 - INFO - Translated 250/800 queries\n",
      "2025-03-25 19:26:36,552 - INFO - Translated 260/800 queries\n",
      "2025-03-25 19:26:40,469 - INFO - Translated 270/800 queries\n",
      "2025-03-25 19:26:46,558 - INFO - Translated 280/800 queries\n",
      "2025-03-25 19:26:53,960 - INFO - Translated 290/800 queries\n",
      "2025-03-25 19:27:02,768 - INFO - Translated 300/800 queries\n",
      "2025-03-25 19:27:08,248 - INFO - Translated 310/800 queries\n",
      "2025-03-25 19:27:13,483 - INFO - Translated 320/800 queries\n",
      "2025-03-25 19:27:22,633 - INFO - Translated 330/800 queries\n",
      "2025-03-25 19:27:31,576 - INFO - Translated 340/800 queries\n",
      "2025-03-25 19:27:37,003 - INFO - Translated 350/800 queries\n",
      "2025-03-25 19:27:42,898 - INFO - Translated 360/800 queries\n",
      "2025-03-25 19:27:50,781 - INFO - Translated 370/800 queries\n",
      "2025-03-25 19:27:56,322 - INFO - Translated 380/800 queries\n",
      "2025-03-25 19:28:04,337 - INFO - Translated 390/800 queries\n",
      "2025-03-25 19:28:12,914 - INFO - Translated 400/800 queries\n",
      "2025-03-25 19:28:22,230 - INFO - Translated 410/800 queries\n",
      "2025-03-25 19:28:30,623 - INFO - Translated 420/800 queries\n",
      "2025-03-25 19:28:39,376 - INFO - Translated 430/800 queries\n",
      "2025-03-25 19:28:47,216 - INFO - Translated 440/800 queries\n",
      "2025-03-25 19:28:54,066 - INFO - Translated 450/800 queries\n",
      "2025-03-25 19:29:02,064 - INFO - Translated 460/800 queries\n",
      "2025-03-25 19:29:07,491 - INFO - Translated 470/800 queries\n",
      "2025-03-25 19:29:12,568 - INFO - Translated 480/800 queries\n",
      "2025-03-25 19:29:21,028 - INFO - Translated 490/800 queries\n",
      "2025-03-25 19:29:28,893 - INFO - Translated 500/800 queries\n",
      "2025-03-25 19:29:36,225 - INFO - Translated 510/800 queries\n",
      "2025-03-25 19:29:43,303 - INFO - Translated 520/800 queries\n",
      "2025-03-25 19:29:51,553 - INFO - Translated 530/800 queries\n",
      "2025-03-25 19:29:56,747 - INFO - Translated 540/800 queries\n",
      "2025-03-25 19:30:04,528 - INFO - Translated 550/800 queries\n",
      "2025-03-25 19:30:14,046 - INFO - Translated 560/800 queries\n",
      "2025-03-25 19:30:20,913 - INFO - Translated 570/800 queries\n",
      "2025-03-25 19:30:31,047 - INFO - Translated 580/800 queries\n",
      "2025-03-25 19:30:36,269 - INFO - Translated 590/800 queries\n",
      "2025-03-25 19:30:44,771 - INFO - Translated 600/800 queries\n",
      "2025-03-25 19:30:51,570 - INFO - Translated 610/800 queries\n",
      "2025-03-25 19:30:58,006 - INFO - Translated 620/800 queries\n",
      "2025-03-25 19:31:01,954 - INFO - Translated 630/800 queries\n",
      "2025-03-25 19:31:08,775 - INFO - Translated 640/800 queries\n",
      "2025-03-25 19:31:14,770 - INFO - Translated 650/800 queries\n",
      "2025-03-25 19:31:23,778 - INFO - Translated 660/800 queries\n",
      "2025-03-25 19:31:32,427 - INFO - Translated 670/800 queries\n",
      "2025-03-25 19:31:39,512 - INFO - Translated 680/800 queries\n",
      "2025-03-25 19:31:45,516 - INFO - Translated 690/800 queries\n",
      "2025-03-25 19:31:52,403 - INFO - Translated 700/800 queries\n",
      "2025-03-25 19:31:59,214 - INFO - Translated 710/800 queries\n",
      "2025-03-25 19:32:04,269 - INFO - Translated 720/800 queries\n",
      "2025-03-25 19:32:08,882 - INFO - Translated 730/800 queries\n",
      "2025-03-25 19:32:14,676 - INFO - Translated 740/800 queries\n",
      "2025-03-25 19:32:21,182 - INFO - Translated 750/800 queries\n",
      "2025-03-25 19:32:27,651 - INFO - Translated 760/800 queries\n",
      "2025-03-25 19:32:33,812 - INFO - Translated 770/800 queries\n",
      "2025-03-25 19:32:39,164 - INFO - Translated 780/800 queries\n",
      "2025-03-25 19:32:45,480 - INFO - Translated 790/800 queries\n",
      "2025-03-25 19:32:50,619 - INFO - Translated 800/800 queries\n",
      "2025-03-25 19:32:50,721 - INFO - Translation completed. Translated 800 queries.\n",
      "2025-03-25 19:32:50,722 - INFO - Saving translated dataset to ../data/xlam_function_calling_pl.json\n",
      "2025-03-25 19:32:50,752 - INFO - Successfully saved 2000 samples with 40.0% translated queries\n"
     ]
    },
    {
     "name": "stdout",
     "output_type": "stream",
     "text": [
      "Full dataset created at: ../data/xlam_function_calling_pl.json\n"
     ]
    }
   ],
   "source": [
    "# Path for the full dataset\n",
    "full_output_path = Path('../data/xlam_function_calling_pl.json')\n",
    "\n",
    "# Option 1: Creating a full dataset with all samples (this will take a long time)\n",
    "# full_dataset_path = create_translated_dataset(\n",
    "#     output_path=full_output_path,\n",
    "#     translation_percentage=0.4,\n",
    "#     random_seed=42\n",
    "# )\n",
    "\n",
    "# Option 2: Creating a more manageable dataset (e.g., 2000 samples)\n",
    "sample_size = 2000  # Adjust based on your needs and resources\n",
    "full_dataset_path = create_translated_dataset(\n",
    "    output_path=full_output_path,\n",
    "    sample_size=sample_size,\n",
    "    translation_percentage=0.4,\n",
    "    random_seed=42\n",
    ")\n",
    "\n",
    "print(f\"Full dataset created at: {full_dataset_path}\")"
   ]
  },
  {
   "cell_type": "markdown",
   "metadata": {},
   "source": [
    "## Analyzing the Full Dataset\n",
    "\n",
    "Now, let's analyze the full dataset to verify that approximately 40% of the queries have been translated."
   ]
  },
  {
   "cell_type": "code",
   "execution_count": 6,
   "metadata": {},
   "outputs": [
    {
     "name": "stderr",
     "output_type": "stream",
     "text": [
      "2025-03-25 19:50:34,925 - INFO - Analyzing translated dataset at ../data/xlam_function_calling_pl.json\n",
      "2025-03-25 19:50:36,546 - INFO - Analysis complete - found 2000 samples with the following language distribution:\n",
      "2025-03-25 19:50:36,546 - INFO -   - English: 1197 samples (59.9%)\n",
      "2025-03-25 19:50:36,547 - INFO -   - Polish: 793 samples (39.6%)\n",
      "2025-03-25 19:50:36,547 - INFO -   - hr: 2 samples (0.1%)\n",
      "2025-03-25 19:50:36,547 - INFO -   - cy: 1 samples (0.1%)\n",
      "2025-03-25 19:50:36,547 - INFO -   - sl: 1 samples (0.1%)\n",
      "2025-03-25 19:50:36,547 - INFO -   - tl: 1 samples (0.1%)\n",
      "2025-03-25 19:50:36,548 - INFO -   - ro: 1 samples (0.1%)\n",
      "2025-03-25 19:50:36,548 - INFO -   - et: 1 samples (0.1%)\n",
      "2025-03-25 19:50:36,548 - INFO -   - ca: 1 samples (0.1%)\n",
      "2025-03-25 19:50:36,548 - INFO -   - da: 1 samples (0.1%)\n",
      "2025-03-25 19:50:36,549 - INFO -   - fr: 1 samples (0.1%)\n"
     ]
    },
    {
     "name": "stdout",
     "output_type": "stream",
     "text": [
      "Language distribution in the full dataset:\n"
     ]
    },
    {
     "data": {
      "application/vnd.microsoft.datawrangler.viewer.v0+json": {
       "columns": [
        {
         "name": "index",
         "rawType": "int64",
         "type": "integer"
        },
        {
         "name": "Language",
         "rawType": "object",
         "type": "string"
        },
        {
         "name": "Count",
         "rawType": "int64",
         "type": "integer"
        },
        {
         "name": "Percentage",
         "rawType": "float64",
         "type": "float"
        }
       ],
       "conversionMethod": "pd.DataFrame",
       "ref": "391e61ce-9a29-4420-92aa-dbd2595522d3",
       "rows": [
        [
         "0",
         "English",
         "1197",
         "59.85"
        ],
        [
         "1",
         "Polish",
         "793",
         "39.65"
        ],
        [
         "2",
         "hr",
         "2",
         "0.1"
        ],
        [
         "3",
         "cy",
         "1",
         "0.05"
        ],
        [
         "4",
         "sl",
         "1",
         "0.05"
        ],
        [
         "5",
         "tl",
         "1",
         "0.05"
        ],
        [
         "6",
         "ro",
         "1",
         "0.05"
        ],
        [
         "7",
         "et",
         "1",
         "0.05"
        ],
        [
         "8",
         "ca",
         "1",
         "0.05"
        ],
        [
         "9",
         "da",
         "1",
         "0.05"
        ],
        [
         "10",
         "fr",
         "1",
         "0.05"
        ]
       ],
       "shape": {
        "columns": 3,
        "rows": 11
       }
      },
      "text/html": [
       "<div>\n",
       "<style scoped>\n",
       "    .dataframe tbody tr th:only-of-type {\n",
       "        vertical-align: middle;\n",
       "    }\n",
       "\n",
       "    .dataframe tbody tr th {\n",
       "        vertical-align: top;\n",
       "    }\n",
       "\n",
       "    .dataframe thead th {\n",
       "        text-align: right;\n",
       "    }\n",
       "</style>\n",
       "<table border=\"1\" class=\"dataframe\">\n",
       "  <thead>\n",
       "    <tr style=\"text-align: right;\">\n",
       "      <th></th>\n",
       "      <th>Language</th>\n",
       "      <th>Count</th>\n",
       "      <th>Percentage</th>\n",
       "    </tr>\n",
       "  </thead>\n",
       "  <tbody>\n",
       "    <tr>\n",
       "      <th>0</th>\n",
       "      <td>English</td>\n",
       "      <td>1197</td>\n",
       "      <td>59.85</td>\n",
       "    </tr>\n",
       "    <tr>\n",
       "      <th>1</th>\n",
       "      <td>Polish</td>\n",
       "      <td>793</td>\n",
       "      <td>39.65</td>\n",
       "    </tr>\n",
       "    <tr>\n",
       "      <th>2</th>\n",
       "      <td>hr</td>\n",
       "      <td>2</td>\n",
       "      <td>0.10</td>\n",
       "    </tr>\n",
       "    <tr>\n",
       "      <th>3</th>\n",
       "      <td>cy</td>\n",
       "      <td>1</td>\n",
       "      <td>0.05</td>\n",
       "    </tr>\n",
       "    <tr>\n",
       "      <th>4</th>\n",
       "      <td>sl</td>\n",
       "      <td>1</td>\n",
       "      <td>0.05</td>\n",
       "    </tr>\n",
       "    <tr>\n",
       "      <th>5</th>\n",
       "      <td>tl</td>\n",
       "      <td>1</td>\n",
       "      <td>0.05</td>\n",
       "    </tr>\n",
       "    <tr>\n",
       "      <th>6</th>\n",
       "      <td>ro</td>\n",
       "      <td>1</td>\n",
       "      <td>0.05</td>\n",
       "    </tr>\n",
       "    <tr>\n",
       "      <th>7</th>\n",
       "      <td>et</td>\n",
       "      <td>1</td>\n",
       "      <td>0.05</td>\n",
       "    </tr>\n",
       "    <tr>\n",
       "      <th>8</th>\n",
       "      <td>ca</td>\n",
       "      <td>1</td>\n",
       "      <td>0.05</td>\n",
       "    </tr>\n",
       "    <tr>\n",
       "      <th>9</th>\n",
       "      <td>da</td>\n",
       "      <td>1</td>\n",
       "      <td>0.05</td>\n",
       "    </tr>\n",
       "    <tr>\n",
       "      <th>10</th>\n",
       "      <td>fr</td>\n",
       "      <td>1</td>\n",
       "      <td>0.05</td>\n",
       "    </tr>\n",
       "  </tbody>\n",
       "</table>\n",
       "</div>"
      ],
      "text/plain": [
       "   Language  Count  Percentage\n",
       "0   English   1197       59.85\n",
       "1    Polish    793       39.65\n",
       "2        hr      2        0.10\n",
       "3        cy      1        0.05\n",
       "4        sl      1        0.05\n",
       "5        tl      1        0.05\n",
       "6        ro      1        0.05\n",
       "7        et      1        0.05\n",
       "8        ca      1        0.05\n",
       "9        da      1        0.05\n",
       "10       fr      1        0.05"
      ]
     },
     "execution_count": 6,
     "metadata": {},
     "output_type": "execute_result"
    }
   ],
   "source": [
    "# Analyze the language distribution\n",
    "full_summary = analyze_translated_dataset(full_output_path)\n",
    "print(\"Language distribution in the full dataset:\")\n",
    "full_summary"
   ]
  },
  {
   "cell_type": "code",
   "execution_count": 7,
   "metadata": {},
   "outputs": [
    {
     "data": {
      "image/png": "[encoded data removed]",
      "text/plain": [
       "<Figure size 1000x600 with 1 Axes>"
      ]
     },
     "metadata": {},
     "output_type": "display_data"
    }
   ],
   "source": [
    "# Visualize the language distribution\n",
    "plt.figure(figsize=(10, 6))\n",
    "sns.barplot(x='Language', y='Percentage', data=full_summary)\n",
    "plt.title('Language Distribution in the Translated Dataset')\n",
    "plt.xlabel('Language')\n",
    "plt.ylabel('Percentage of Queries')\n",
    "plt.tight_layout()\n",
    "plt.savefig('../data/language_distribution.png')\n",
    "plt.show()"
   ]
  },
  {
   "cell_type": "markdown",
   "metadata": {},
   "source": [
    "## Examining Examples of Translated Queries\n",
    "\n",
    "Let's look at some examples of translated queries to verify the quality."
   ]
  },
  {
   "cell_type": "code",
   "execution_count": 8,
   "metadata": {},
   "outputs": [
    {
     "name": "stdout",
     "output_type": "stream",
     "text": [
      "Examples of English Queries:\n",
      "1. Jaki jest wynik Flames dla nazwisk „John” i „Mary”?\n",
      "\n",
      "2. Pobierz dane Ticker dla Ethereum na rynkach USD i euro.\n",
      "\n",
      "3. Odzyskaj zwolnienia prasowe dla Tesli na stronie 1.\n",
      "\n",
      "4. Pobieraj produkty z pierwszych 3 stron sklepu Nike Shopify.\n",
      "\n",
      "5. Oblicz odchylenie standardowe liczb 5, 10, 15, 20, 25.\n",
      "\n",
      "\n",
      "Examples of Polish Queries:\n",
      "1. Jaka jest szerokość i długość adresów IP '74 .125.24.100 'i '74 .125.24.101'?\n",
      "\n",
      "2. Tworzę łamigłówkę dla różnych grup wiekowych.Potrzebuję 7 łatwych słów dla dzieci, 14 średnich słów dla nastolatków i 20 twardych słów dla dorosłych.\n",
      "\n",
      "3. Pobrać informacje dla pojazdu z VIN 5xYZU3LA3DG123456.\n",
      "\n",
      "4. Odzyskaj przypadkowy fałszywy rekord banku z ID 987.\n",
      "\n",
      "5. Złóż małe zamówienie w Whole Foods położonym przy 789 Red Boulevard.Muszę zamówić ser, jogurt i masło.\n",
      "\n"
     ]
    }
   ],
   "source": [
    "# Load the full dataset\n",
    "with open(full_output_path, 'r', encoding='utf-8') as f:\n",
    "    full_data = json.load(f)\n",
    "\n",
    "# Function to detect if a query is in Polish (simplified)\n",
    "def is_polish(text):\n",
    "    return any(c in text for c in 'ąćęłńóśźżĄĆĘŁŃÓŚŹŻ')\n",
    "\n",
    "# Get examples of English and Polish queries\n",
    "english_examples = []\n",
    "polish_examples = []\n",
    "\n",
    "for sample in full_data:\n",
    "    query = sample['query']\n",
    "    if len(english_examples) < 5 and not is_polish(query):\n",
    "        english_examples.append(query)\n",
    "    elif len(polish_examples) < 5 and is_polish(query):\n",
    "        polish_examples.append(query)\n",
    "        \n",
    "    if len(english_examples) >= 5 and len(polish_examples) >= 5:\n",
    "        break\n",
    "\n",
    "# Display examples\n",
    "print(\"Examples of English Queries:\")\n",
    "for i, query in enumerate(english_examples):\n",
    "    print(f\"{i+1}. {query}\\n\")\n",
    "\n",
    "print(\"\\nExamples of Polish Queries:\")\n",
    "for i, query in enumerate(polish_examples):\n",
    "    print(f\"{i+1}. {query}\\n\")"
   ]
  },
  {
   "cell_type": "markdown",
   "metadata": {},
   "source": [
    "## Verify Dataset Structure\n",
    "\n",
    "Let's verify that the dataset structure is maintained, with only the queries translated."
   ]
  },
  {
   "cell_type": "code",
   "execution_count": 9,
   "metadata": {},
   "outputs": [
    {
     "name": "stdout",
     "output_type": "stream",
     "text": [
      "Structure of a sample with a Polish query:\n",
      "Query: Jaka jest szerokość i długość adresów IP '74 .125.24.100 'i '74 .125.24.101'?\n",
      "\n",
      "Tools:\n",
      "- Name: get_ip_location\n",
      "  Description: Retrieves the latitude and longitude coordinates of a given IP address using the ip-api.com API.\n",
      "  Parameters: ['ip']\n",
      "\n",
      "Answers:\n",
      "- Tool: get_ip_location\n",
      "  Arguments: {'ip': '74.125.24.100'}\n",
      "\n",
      "- Tool: get_ip_location\n",
      "  Arguments: {'ip': '74.125.24.101'}\n",
      "\n"
     ]
    }
   ],
   "source": [
    "# Select a sample with a Polish query\n",
    "polish_sample = None\n",
    "for sample in full_data:\n",
    "    if is_polish(sample['query']):\n",
    "        polish_sample = sample\n",
    "        break\n",
    "\n",
    "if polish_sample:\n",
    "    # Parse the sample to examine its structure\n",
    "    parsed_sample = parse_json_entry(polish_sample)\n",
    "    \n",
    "    print(\"Structure of a sample with a Polish query:\")\n",
    "    print(f\"Query: {parsed_sample['query']}\\n\")\n",
    "    \n",
    "    print(\"Tools:\")\n",
    "    for tool in parsed_sample['tools'][:2]:  # Show first two tools\n",
    "        print(f\"- Name: {tool['name']}\")\n",
    "        print(f\"  Description: {tool['description']}\")\n",
    "        print(f\"  Parameters: {list(tool['parameters'].keys())}\\n\")\n",
    "    \n",
    "    print(\"Answers:\")\n",
    "    for answer in parsed_sample['answers'][:2]:  # Show first two answers\n",
    "        print(f\"- Tool: {answer['name']}\")\n",
    "        print(f\"  Arguments: {answer['arguments']}\\n\")\n",
    "else:\n",
    "    print(\"No sample with a Polish query found.\")"
   ]
  },
  {
   "cell_type": "markdown",
   "metadata": {},
   "source": [
    "## Save Dataset Statistics\n",
    "\n",
    "Finally, let's save some statistics about the dataset."
   ]
  },
  {
   "cell_type": "code",
   "execution_count": 10,
   "metadata": {},
   "outputs": [
    {
     "name": "stdout",
     "output_type": "stream",
     "text": [
      "total_samples: 2000\n",
      "english_samples: 1197\n",
      "polish_samples: 793\n",
      "polish_percentage: 39.65\n",
      "\n",
      "Statistics saved to ../data/dataset_stats.json\n"
     ]
    }
   ],
   "source": [
    "# Prepare dataset statistics\n",
    "stats = {\n",
    "    \"total_samples\": len(full_data),\n",
    "    \"english_samples\": int(full_summary[full_summary['Language'] == 'English']['Count'].values[0] \n",
    "                           if 'English' in full_summary['Language'].values else 0),\n",
    "    \"polish_samples\": int(full_summary[full_summary['Language'] == 'Polish']['Count'].values[0] \n",
    "                          if 'Polish' in full_summary['Language'].values else 0),\n",
    "    \"polish_percentage\": float(full_summary[full_summary['Language'] == 'Polish']['Percentage'].values[0] \n",
    "                              if 'Polish' in full_summary['Language'].values else 0),\n",
    "}\n",
    "\n",
    "# Display statistics\n",
    "for key, value in stats.items():\n",
    "    print(f\"{key}: {value}\")\n",
    "\n",
    "# Save statistics to file\n",
    "stats_path = Path('../data/dataset_stats.json')\n",
    "with open(stats_path, 'w', encoding='utf-8') as f:\n",
    "    json.dump(stats, f, indent=2)\n",
    "\n",
    "print(f\"\\nStatistics saved to {stats_path}\")"
   ]
  },
  {
   "cell_type": "markdown",
   "metadata": {},
   "source": [
    "## Conclusion\n",
    "\n",
    "In this notebook, we have:\n",
    "\n",
    "1. Created a small test dataset to verify the translation functionality\n",
    "2. Created a larger dataset with approximately 40% of queries translated to Polish\n",
    "3. Analyzed and visualized the language distribution in the dataset\n",
    "4. Verified that the dataset structure is maintained, with only the queries translated\n",
    "5. Saved statistics about the dataset"
   ]
  }
 ],
 "metadata": {
  "kernelspec": {
   "display_name": ".venv",
   "language": "python",
   "name": "python3"
  },
  "language_info": {
   "codemirror_mode": {
    "name": "ipython",
    "version": 3
   },
   "file_extension": ".py",
   "mimetype": "text/x-python",
   "name": "python",
   "nbconvert_exporter": "python",
   "pygments_lexer": "ipython3",
   "version": "3.11.8"
  }
 },
 "nbformat": 4,
 "nbformat_minor": 4
}
